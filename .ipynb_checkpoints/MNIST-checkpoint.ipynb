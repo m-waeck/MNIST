{
 "cells": [
  {
   "cell_type": "markdown",
   "metadata": {},
   "source": [
    "\n",
    "# MNIST-Datensatz: Klassifizierung von Ziffern"
   ]
  },
  {
   "cell_type": "markdown",
   "metadata": {},
   "source": [
    "Der MNIST-Datensatz stammt von der amerikanischen National Institute of Standards and Technology und ist das Deep-Learning-Pendant zum \"Hallo Welt\"-Programm der Programmiersprachen. In diesem Datensatz befinden sich die Pixelgrauwerte von handgeschriebenen Ziffern (28 × 28 Pixel) mit der dazugehörigen Kategorien (0 bis 9) von 60.000 Trainingsbildern und 10.000 Testbildern. "
   ]
  },
  {
   "cell_type": "markdown",
   "metadata": {},
   "source": [
    "## Module"
   ]
  },
  {
   "cell_type": "code",
   "execution_count": 2,
   "metadata": {},
   "outputs": [
    {
     "name": "stderr",
     "output_type": "stream",
     "text": [
      "Using TensorFlow backend.\n"
     ]
    }
   ],
   "source": [
    "import numpy as np\n",
    "import matplotlib.pyplot as plt\n",
    "from keras import models\n",
    "from keras import layers\n",
    "from keras.utils import to_categorical\n",
    "from keras.datasets import mnist\n",
    "#tensorflow==1.8.0, keras==2.2.0"
   ]
  },
  {
   "cell_type": "markdown",
   "metadata": {},
   "source": [
    "## Einladen der Daten\n",
    "Die MNIST-Datensammlung ist in Keras in Form von vier Numpy-Arrays enthalten."
   ]
  },
  {
   "cell_type": "code",
   "execution_count": 3,
   "metadata": {
    "collapsed": true
   },
   "outputs": [],
   "source": [
    "(train_images, train_labels), (test_images, test_labels) = mnist.load_data()"
   ]
  },
  {
   "cell_type": "markdown",
   "metadata": {},
   "source": [
    "Die erste Datenmenge sind die Trainingsdaten für das Anlernen des Modells, die zweite Datenmenge sind die Testdaten für das Überprüfen des Modells. "
   ]
  },
  {
   "cell_type": "code",
   "execution_count": 6,
   "metadata": {},
   "outputs": [
    {
     "data": {
      "text/plain": [
       "(60000, 28, 28)"
      ]
     },
     "execution_count": 6,
     "metadata": {},
     "output_type": "execute_result"
    }
   ],
   "source": [
    "train_images.shape"
   ]
  },
  {
   "cell_type": "code",
   "execution_count": 7,
   "metadata": {},
   "outputs": [
    {
     "data": {
      "text/plain": [
       "(10000, 28, 28)"
      ]
     },
     "execution_count": 7,
     "metadata": {},
     "output_type": "execute_result"
    }
   ],
   "source": [
    "test_images.shape"
   ]
  },
  {
   "cell_type": "code",
   "execution_count": 8,
   "metadata": {},
   "outputs": [
    {
     "data": {
      "text/plain": [
       "dtype('uint8')"
      ]
     },
     "execution_count": 8,
     "metadata": {},
     "output_type": "execute_result"
    }
   ],
   "source": [
    "train_images.dtype"
   ]
  },
  {
   "cell_type": "code",
   "execution_count": 9,
   "metadata": {},
   "outputs": [
    {
     "data": {
      "image/png": "[encoded data removed]",
      "text/plain": [
       "<matplotlib.figure.Figure at 0x23e287d0320>"
      ]
     },
     "metadata": {},
     "output_type": "display_data"
    }
   ],
   "source": [
    "plt.imshow(train_images[3], cmap = 'Greys') \n",
    "plt.show()"
   ]
  },
  {
   "cell_type": "code",
   "execution_count": 10,
   "metadata": {},
   "outputs": [
    {
     "data": {
      "text/plain": [
       "array([5, 0, 4, ..., 5, 6, 8], dtype=uint8)"
      ]
     },
     "execution_count": 10,
     "metadata": {},
     "output_type": "execute_result"
    }
   ],
   "source": [
    "train_labels"
   ]
  },
  {
   "cell_type": "markdown",
   "metadata": {},
   "source": [
    "## Vorverarbeiten der Daten"
   ]
  },
  {
   "cell_type": "markdown",
   "metadata": {},
   "source": [
    "### Skalieren der Daten"
   ]
  },
  {
   "cell_type": "markdown",
   "metadata": {},
   "source": [
    "Für das Training werden die Daten in ein 2D-Tensor der Größe $[60000, 28 \\cdot 28]$ mit Werten zwischen 0 und 1 umgewandelt. Die erste Dimension (Achse 0) ist dabei die Batch-Achse.  "
   ]
  },
  {
   "cell_type": "code",
   "execution_count": 4,
   "metadata": {},
   "outputs": [
    {
     "data": {
      "text/plain": [
       "(60000, 784)"
      ]
     },
     "execution_count": 4,
     "metadata": {},
     "output_type": "execute_result"
    }
   ],
   "source": [
    "train_images = train_images.reshape([60000, 28 * 28])\n",
    "train_images = train_images.astype('float32') / 255\n",
    "train_images.shape"
   ]
  },
  {
   "cell_type": "code",
   "execution_count": 5,
   "metadata": {},
   "outputs": [
    {
     "data": {
      "text/plain": [
       "(10000, 784)"
      ]
     },
     "execution_count": 5,
     "metadata": {},
     "output_type": "execute_result"
    }
   ],
   "source": [
    "test_images = test_images.reshape([10000, 28 * 28])\n",
    "test_images = test_images.astype('float32') / 255\n",
    "test_images.shape"
   ]
  },
  {
   "cell_type": "markdown",
   "metadata": {},
   "source": [
    "### Kategorisierung der Klassenbezeichnungen"
   ]
  },
  {
   "cell_type": "code",
   "execution_count": 6,
   "metadata": {},
   "outputs": [
    {
     "name": "stdout",
     "output_type": "stream",
     "text": [
      "(60000, 10)\n",
      "(10000, 10)\n"
     ]
    }
   ],
   "source": [
    "train_labels = to_categorical(train_labels)\n",
    "test_labels  = to_categorical(test_labels)\n",
    "print(train_labels.shape)\n",
    "print(test_labels.shape)"
   ]
  },
  {
   "cell_type": "markdown",
   "metadata": {},
   "source": [
    "## Aufbau des Lernmodells"
   ]
  },
  {
   "cell_type": "markdown",
   "metadata": {},
   "source": [
    "### Aufbau der Architektur"
   ]
  },
  {
   "cell_type": "markdown",
   "metadata": {},
   "source": [
    "Erstellen eines neuronalen Netzes mit einer Eingabeschicht mit $28 \\cdot 28 = 784$ Neuronen, einer verdeckten Schicht mit 500 Neuronen und einer Ausgabeschicht mit 10 Neuronen. Die einzelnen Schichten (Layer) sind vollständig verbunden und besitzen eine Aktivierungfunktion (z.B. sigmoid, relu, tanh). "
   ]
  },
  {
   "cell_type": "code",
   "execution_count": 16,
   "metadata": {},
   "outputs": [
    {
     "name": "stdout",
     "output_type": "stream",
     "text": [
      "_________________________________________________________________\n",
      "Layer (type)                 Output Shape              Param #   \n",
      "=================================================================\n",
      "dense_5 (Dense)              (None, 200)               157000    \n",
      "_________________________________________________________________\n",
      "dense_6 (Dense)              (None, 10)                2010      \n",
      "=================================================================\n",
      "Total params: 159,010\n",
      "Trainable params: 159,010\n",
      "Non-trainable params: 0\n",
      "_________________________________________________________________\n"
     ]
    }
   ],
   "source": [
    "network = models.Sequential()\n",
    "network.add(layers.Dense(200, activation='relu', input_shape=(28 * 28,)))\n",
    "network.add(layers.Dense(10,  activation='softmax'))\n",
    "network.summary()"
   ]
  },
  {
   "cell_type": "markdown",
   "metadata": {},
   "source": [
    "Der Layer ist eine Funktion, die hier einen 2-D-Tensor (Samples, Merkmale) als Eingabe entgegennimmt und einen weiteren 2-D-Tensor zurückliefert. Die Gewichte der einzelnen Layer enthalten das Wissen des neuronalen Netzes. Keras passt die hinzugefügten Layer automatisch an die Shape der eingehenden Layer an, daher wird dem zweiten Layer kein Shape-Argument übergeben. "
   ]
  },
  {
   "cell_type": "markdown",
   "metadata": {},
   "source": [
    "### Definition der Verlustfunktion und des Optimierers\n",
    "\n",
    "Konfigurieren des Lernvorgang durch Auswahl eines Optimierers (hier RMSProp), einer Verlustfunktion (Kreuzentropie) und der zu überwachenden Kennzahlen (hier Korrektklassifizierungsrate). Die Verlustfunktion beschreibt eine Maß für die Beurteilung der Leistung des neuronalen Netzes anhand der Trainingsdaten. Der Optimierer ist ein stochastisches Gradientenabstiegsverfahren für das Anlernen des Netzes mit den Trainingsdaten. Das Gradientenabstiegsverfahren minimiert während des Trainings die Verlustfunktion. "
   ]
  },
  {
   "cell_type": "code",
   "execution_count": 17,
   "metadata": {
    "collapsed": true
   },
   "outputs": [],
   "source": [
    "network.compile(optimizer='rmsprop', loss='categorical_crossentropy', metrics=['accuracy'])"
   ]
  },
  {
   "cell_type": "markdown",
   "metadata": {},
   "source": [
    "## Training des Modells"
   ]
  },
  {
   "cell_type": "code",
   "execution_count": 18,
   "metadata": {},
   "outputs": [
    {
     "name": "stdout",
     "output_type": "stream",
     "text": [
      "Epoch 1/5\n",
      "99/99 [==============================] - 0s 4ms/step - loss: 2.3620 - acc: 0.0505\n",
      "Epoch 2/5\n",
      "99/99 [==============================] - 0s 91us/step - loss: 1.6675 - acc: 0.6364\n",
      "Epoch 3/5\n",
      "99/99 [==============================] - 0s 91us/step - loss: 1.2612 - acc: 0.8384\n",
      "Epoch 4/5\n",
      "99/99 [==============================] - 0s 96us/step - loss: 1.0014 - acc: 0.9394\n",
      "Epoch 5/5\n",
      "99/99 [==============================] - 0s 127us/step - loss: 0.8323 - acc: 0.9293\n"
     ]
    }
   ],
   "source": [
    "history = network.fit(train_images[1:100,:], train_labels[1:100,:], epochs=5, batch_size=128)"
   ]
  },
  {
   "cell_type": "markdown",
   "metadata": {},
   "source": [
    "## Darstellen der Ergebnisse"
   ]
  },
  {
   "cell_type": "markdown",
   "metadata": {},
   "source": [
    "### Plot der Verlustfunktion"
   ]
  },
  {
   "cell_type": "markdown",
   "metadata": {},
   "source": [
    "Das history-Objekt gibt ein Dictionary mit vier Kennzahlen zurück, die während des Training überwacht wurde. "
   ]
  },
  {
   "cell_type": "code",
   "execution_count": 19,
   "metadata": {},
   "outputs": [
    {
     "data": {
      "text/plain": [
       "dict_keys(['loss', 'acc'])"
      ]
     },
     "execution_count": 19,
     "metadata": {},
     "output_type": "execute_result"
    }
   ],
   "source": [
    "history_dict = history.history\n",
    "history_dict.keys()"
   ]
  },
  {
   "cell_type": "code",
   "execution_count": 20,
   "metadata": {},
   "outputs": [
    {
     "data": {
      "image/png": "[encoded data removed]",
      "text/plain": [
       "<matplotlib.figure.Figure at 0x1bf8b5f48d0>"
      ]
     },
     "metadata": {},
     "output_type": "display_data"
    }
   ],
   "source": [
    "loss_values = history_dict['loss']\n",
    "plt.plot(range(1,len(loss_values)+1), loss_values, 'b', label='Verlust Training')\n",
    "plt.title('Wert der Verlustfunktion im Training')\n",
    "plt.xlabel('Epochenzahl')\n",
    "plt.ylabel('Wert der Verlustfunktion')\n",
    "plt.legend()\n",
    "plt.show()"
   ]
  },
  {
   "cell_type": "markdown",
   "metadata": {},
   "source": [
    "### Korrektklassifizierungsrate"
   ]
  },
  {
   "cell_type": "code",
   "execution_count": 21,
   "metadata": {},
   "outputs": [
    {
     "name": "stdout",
     "output_type": "stream",
     "text": [
      "10000/10000 [==============================] - 1s 87us/step\n"
     ]
    },
    {
     "data": {
      "text/plain": [
       "0.59909999999999997"
      ]
     },
     "execution_count": 21,
     "metadata": {},
     "output_type": "execute_result"
    }
   ],
   "source": [
    "test_loss, test_acc = network.evaluate(test_images, test_labels)\n",
    "test_acc"
   ]
  },
  {
   "cell_type": "markdown",
   "metadata": {},
   "source": [
    "### Vorhersage für neue Daten"
   ]
  },
  {
   "cell_type": "code",
   "execution_count": 50,
   "metadata": {},
   "outputs": [
    {
     "data": {
      "text/plain": [
       "array([[  2.44083004e-10,   5.22301863e-12,   2.93895624e-07, ...,\n",
       "          9.99944448e-01,   7.74101316e-09,   7.81349527e-08],\n",
       "       [  5.20425543e-12,   8.52563176e-09,   1.00000000e+00, ...,\n",
       "          2.12125379e-21,   5.85400894e-10,   9.79852304e-20],\n",
       "       [  8.15656733e-08,   9.99470055e-01,   1.21152429e-04, ...,\n",
       "          2.54014798e-04,   1.37809184e-04,   2.29433894e-07],\n",
       "       ..., \n",
       "       [  1.98018109e-14,   8.77418093e-13,   2.81123193e-12, ...,\n",
       "          4.33491323e-06,   3.87409109e-08,   5.82501707e-05],\n",
       "       [  7.70103219e-13,   2.51754021e-12,   2.22227984e-13, ...,\n",
       "          2.41802455e-13,   1.73013859e-06,   2.55509291e-13],\n",
       "       [  6.31864075e-11,   6.12738627e-20,   1.29111001e-12, ...,\n",
       "          5.99486617e-18,   4.85537446e-14,   2.35000143e-15]], dtype=float32)"
      ]
     },
     "execution_count": 50,
     "metadata": {},
     "output_type": "execute_result"
    }
   ],
   "source": [
    "network.predict(test_images)"
   ]
  },
  {
   "cell_type": "code",
   "execution_count": null,
   "metadata": {
    "collapsed": true
   },
   "outputs": [],
   "source": []
  }
 ],
 "metadata": {
  "kernelspec": {
   "display_name": "Python 3",
   "language": "python",
   "name": "python3"
  },
  "language_info": {
   "codemirror_mode": {
    "name": "ipython",
    "version": 3
   },
   "file_extension": ".py",
   "mimetype": "text/x-python",
   "name": "python",
   "nbconvert_exporter": "python",
   "pygments_lexer": "ipython3",
   "version": "3.8.3"
  }
 },
 "nbformat": 4,
 "nbformat_minor": 2
}
